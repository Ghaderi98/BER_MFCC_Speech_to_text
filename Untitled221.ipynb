{
  "nbformat": 4,
  "nbformat_minor": 0,
  "metadata": {
    "colab": {
      "provenance": [],
      "mount_file_id": "1EQqOI39WUjbsMf8kpfY_RcZGp9OCMNPf",
      "authorship_tag": "ABX9TyMNXaUOhYGyI31x3zI8qQJh",
      "include_colab_link": true
    },
    "kernelspec": {
      "name": "python3",
      "display_name": "Python 3"
    },
    "language_info": {
      "name": "python"
    }
  },
  "cells": [
    {
      "cell_type": "markdown",
      "metadata": {
        "id": "view-in-github",
        "colab_type": "text"
      },
      "source": [
        "<a href=\"https://colab.research.google.com/github/Ghaderi98/BER_MFCC_Speech_to_text/blob/main/Untitled221.ipynb\" target=\"_parent\"><img src=\"https://colab.research.google.com/assets/colab-badge.svg\" alt=\"Open In Colab\"/></a>"
      ]
    },
    {
      "cell_type": "code",
      "execution_count": 1,
      "metadata": {
        "colab": {
          "base_uri": "https://localhost:8080/"
        },
        "id": "bnYa_fClKLE3",
        "outputId": "24ad8198-8356-4320-e2ac-b250084acffa"
      },
      "outputs": [
        {
          "output_type": "stream",
          "name": "stdout",
          "text": [
            "Cloning into 'Complex-MTASSNet'...\n",
            "remote: Enumerating objects: 191, done.\u001b[K\n",
            "remote: Counting objects: 100% (191/191), done.\u001b[K\n",
            "remote: Compressing objects: 100% (156/156), done.\u001b[K\n",
            "remote: Total 191 (delta 37), reused 179 (delta 28), pack-reused 0\u001b[K\n",
            "Receiving objects: 100% (191/191), 22.52 MiB | 14.58 MiB/s, done.\n",
            "Resolving deltas: 100% (37/37), done.\n"
          ]
        }
      ],
      "source": [
        "!git clone https://github.com/Windstudent/Complex-MTASSNet.git\n",
        "\n"
      ]
    },
    {
      "cell_type": "code",
      "source": [
        "!cd Complex-MTASSNet\n"
      ],
      "metadata": {
        "id": "Q2VFwDFXKZDW"
      },
      "execution_count": 2,
      "outputs": []
    },
    {
      "cell_type": "code",
      "source": [
        "!ls\n"
      ],
      "metadata": {
        "colab": {
          "base_uri": "https://localhost:8080/"
        },
        "id": "O6e12bgTKg7v",
        "outputId": "a1a50a4c-2452-4edc-d472-c7eae18962f4"
      },
      "execution_count": 3,
      "outputs": [
        {
          "output_type": "stream",
          "name": "stdout",
          "text": [
            "Complex-MTASSNet  drive  sample_data\n"
          ]
        }
      ]
    },
    {
      "cell_type": "code",
      "source": [
        "!wget https://raw.githubusercontent.com/Windstudent/Complex-MTASSNet/main/dataset_generation/load_split_speech_data.py\n",
        "!wget https://raw.githubusercontent.com/Windstudent/Complex-MTASSNet/main/dataset_generation/load_split_music_data.py\n",
        "!wget https://raw.githubusercontent.com/Windstudent/Complex-MTASSNet/main/dataset_generation/load_split_noise_data.py"
      ],
      "metadata": {
        "colab": {
          "base_uri": "https://localhost:8080/"
        },
        "id": "ZJKwBxN4NXTh",
        "outputId": "6a185fac-8157-40f4-a77e-a20fc52bcffb"
      },
      "execution_count": 4,
      "outputs": [
        {
          "output_type": "stream",
          "name": "stdout",
          "text": [
            "--2024-01-03 12:31:16--  https://raw.githubusercontent.com/Windstudent/Complex-MTASSNet/main/dataset_generation/load_split_speech_data.py\n",
            "Resolving raw.githubusercontent.com (raw.githubusercontent.com)... 185.199.111.133, 185.199.110.133, 185.199.108.133, ...\n",
            "Connecting to raw.githubusercontent.com (raw.githubusercontent.com)|185.199.111.133|:443... connected.\n",
            "HTTP request sent, awaiting response... 200 OK\n",
            "Length: 4131 (4.0K) [text/plain]\n",
            "Saving to: ‘load_split_speech_data.py’\n",
            "\n",
            "load_split_speech_d 100%[===================>]   4.03K  --.-KB/s    in 0s      \n",
            "\n",
            "2024-01-03 12:31:17 (45.0 MB/s) - ‘load_split_speech_data.py’ saved [4131/4131]\n",
            "\n",
            "--2024-01-03 12:31:17--  https://raw.githubusercontent.com/Windstudent/Complex-MTASSNet/main/dataset_generation/load_split_music_data.py\n",
            "Resolving raw.githubusercontent.com (raw.githubusercontent.com)... 185.199.108.133, 185.199.109.133, 185.199.110.133, ...\n",
            "Connecting to raw.githubusercontent.com (raw.githubusercontent.com)|185.199.108.133|:443... connected.\n",
            "HTTP request sent, awaiting response... 200 OK\n",
            "Length: 8504 (8.3K) [text/plain]\n",
            "Saving to: ‘load_split_music_data.py’\n",
            "\n",
            "load_split_music_da 100%[===================>]   8.30K  --.-KB/s    in 0s      \n",
            "\n",
            "2024-01-03 12:31:17 (53.8 MB/s) - ‘load_split_music_data.py’ saved [8504/8504]\n",
            "\n",
            "--2024-01-03 12:31:17--  https://raw.githubusercontent.com/Windstudent/Complex-MTASSNet/main/dataset_generation/load_split_noise_data.py\n",
            "Resolving raw.githubusercontent.com (raw.githubusercontent.com)... 185.199.108.133, 185.199.109.133, 185.199.110.133, ...\n",
            "Connecting to raw.githubusercontent.com (raw.githubusercontent.com)|185.199.108.133|:443... connected.\n",
            "HTTP request sent, awaiting response... 200 OK\n",
            "Length: 4354 (4.3K) [text/plain]\n",
            "Saving to: ‘load_split_noise_data.py’\n",
            "\n",
            "load_split_noise_da 100%[===================>]   4.25K  --.-KB/s    in 0s      \n",
            "\n",
            "2024-01-03 12:31:17 (40.8 MB/s) - ‘load_split_noise_data.py’ saved [4354/4354]\n",
            "\n"
          ]
        }
      ]
    },
    {
      "cell_type": "code",
      "source": [
        "import os\n",
        "\n",
        "DATASET_PATH = os.path.join('/content/drive/MyDrive', 'speech')\n",
        "out_data_path = os.path.join('/content/drive/MyDrive', 'speech_data', 'train')\n"
      ],
      "metadata": {
        "id": "8OrmhrVpQH-u"
      },
      "execution_count": 5,
      "outputs": []
    },
    {
      "cell_type": "code",
      "source": [
        "\n",
        "DATASET_PATH = os.path.join('/content/drive/MyDrive/music')\n",
        "resample_data_path = '/content/drive/MyDrive/downsampled_music/'\n",
        "split_data_path = '/content/drive/MyDrive/split_music/'\n",
        "\n"
      ],
      "metadata": {
        "id": "bl0pm0s2RAUu"
      },
      "execution_count": 6,
      "outputs": []
    },
    {
      "cell_type": "code",
      "source": [
        "\n",
        "DATASET_PATH = os.path.join('/content/drive/MyDrive', 'noise')\n",
        "out_data_path = os.path.join('/content/drive/MyDrive', 'noise_data', 'train')\n"
      ],
      "metadata": {
        "id": "8AwIa_SASPVC"
      },
      "execution_count": 7,
      "outputs": []
    },
    {
      "cell_type": "code",
      "source": [
        "\n",
        "data_path = os.path.join('/content/drive/MyDrive/mixture')\n"
      ],
      "metadata": {
        "id": "XpIY6eqnS50S"
      },
      "execution_count": 8,
      "outputs": []
    },
    {
      "cell_type": "code",
      "source": [
        "import os\n",
        "\n",
        "# The path to the main directory\n",
        "path = '/content/Complex-MTASSNet/model_constrcution'\n",
        "\n",
        "# The path to the DNN models directory\n",
        "path_dnn_models = os.path.join(path, 'DNN_models')\n",
        "\n",
        "# The path to the Complex_MTASS.py file\n",
        "path_complex_mtass = os.path.join(path_dnn_models, 'Complex_MTASS.py')\n",
        "\n",
        "# The path to the Complex_MTASS_Solver.py file\n",
        "path_complex_mtass_solver = os.path.join(path_dnn_models, 'Complex_MTASS_Solver.py')\n",
        "\n",
        "# The path to the utils directory\n",
        "path_utils = os.path.join(path, 'utils')\n",
        "\n",
        "# The path to the utils_library.py file\n",
        "path_utils_library = os.path.join(path_utils, 'utils_library.py')\n",
        "\n",
        "# The path to the run.py file\n",
        "path_run = os.path.join(path, 'run.py')\n"
      ],
      "metadata": {
        "id": "IaARQGEZUbYQ"
      },
      "execution_count": 9,
      "outputs": []
    },
    {
      "cell_type": "code",
      "source": [
        "!pip install thop"
      ],
      "metadata": {
        "colab": {
          "base_uri": "https://localhost:8080/"
        },
        "id": "g5HPMB9oU8gf",
        "outputId": "e2c87593-7388-4c01-aca9-e5f14264f011"
      },
      "execution_count": 11,
      "outputs": [
        {
          "output_type": "stream",
          "name": "stdout",
          "text": [
            "Collecting thop\n",
            "  Downloading thop-0.1.1.post2209072238-py3-none-any.whl (15 kB)\n",
            "Requirement already satisfied: torch in /usr/local/lib/python3.10/dist-packages (from thop) (2.1.0+cu121)\n",
            "Requirement already satisfied: filelock in /usr/local/lib/python3.10/dist-packages (from torch->thop) (3.13.1)\n",
            "Requirement already satisfied: typing-extensions in /usr/local/lib/python3.10/dist-packages (from torch->thop) (4.5.0)\n",
            "Requirement already satisfied: sympy in /usr/local/lib/python3.10/dist-packages (from torch->thop) (1.12)\n",
            "Requirement already satisfied: networkx in /usr/local/lib/python3.10/dist-packages (from torch->thop) (3.2.1)\n",
            "Requirement already satisfied: jinja2 in /usr/local/lib/python3.10/dist-packages (from torch->thop) (3.1.2)\n",
            "Requirement already satisfied: fsspec in /usr/local/lib/python3.10/dist-packages (from torch->thop) (2023.6.0)\n",
            "Requirement already satisfied: triton==2.1.0 in /usr/local/lib/python3.10/dist-packages (from torch->thop) (2.1.0)\n",
            "Requirement already satisfied: MarkupSafe>=2.0 in /usr/local/lib/python3.10/dist-packages (from jinja2->torch->thop) (2.1.3)\n",
            "Requirement already satisfied: mpmath>=0.19 in /usr/local/lib/python3.10/dist-packages (from sympy->torch->thop) (1.3.0)\n",
            "Installing collected packages: thop\n",
            "Successfully installed thop-0.1.1.post2209072238\n"
          ]
        }
      ]
    },
    {
      "cell_type": "code",
      "source": [
        "!python /content/Complex-MTASSNet/model_constrcution/run.py"
      ],
      "metadata": {
        "colab": {
          "base_uri": "https://localhost:8080/"
        },
        "id": "zm5UKzsJUv6u",
        "outputId": "8dbda3c1-64a0-483d-c0e9-b538979d95d9"
      },
      "execution_count": 12,
      "outputs": [
        {
          "output_type": "stream",
          "name": "stdout",
          "text": [
            "The current model is: <class 'DNN_models.Complex_MTASS_Solver.Complex_MTASS_model'>\n",
            "\n",
            "\n",
            "Start model training...\n",
            "Traceback (most recent call last):\n",
            "  File \"/content/Complex-MTASSNet/model_constrcution/run.py\", line 109, in <module>\n",
            "    DNN_model_class.train_model(learning_rate=0.001, num_epochs=50, mini_batch_size=10, \n",
            "  File \"/content/Complex-MTASSNet/model_constrcution/DNN_models/Complex_MTASS_Solver.py\", line 726, in train_model\n",
            "    net = net.cuda()\n",
            "  File \"/usr/local/lib/python3.10/dist-packages/torch/nn/modules/module.py\", line 918, in cuda\n",
            "    return self._apply(lambda t: t.cuda(device))\n",
            "  File \"/usr/local/lib/python3.10/dist-packages/torch/nn/modules/module.py\", line 810, in _apply\n",
            "    module._apply(fn)\n",
            "  File \"/usr/local/lib/python3.10/dist-packages/torch/nn/modules/module.py\", line 810, in _apply\n",
            "    module._apply(fn)\n",
            "  File \"/usr/local/lib/python3.10/dist-packages/torch/nn/modules/module.py\", line 810, in _apply\n",
            "    module._apply(fn)\n",
            "  [Previous line repeated 1 more time]\n",
            "  File \"/usr/local/lib/python3.10/dist-packages/torch/nn/modules/module.py\", line 833, in _apply\n",
            "    param_applied = fn(param)\n",
            "  File \"/usr/local/lib/python3.10/dist-packages/torch/nn/modules/module.py\", line 918, in <lambda>\n",
            "    return self._apply(lambda t: t.cuda(device))\n",
            "  File \"/usr/local/lib/python3.10/dist-packages/torch/cuda/__init__.py\", line 298, in _lazy_init\n",
            "    torch._C._cuda_init()\n",
            "RuntimeError: Found no NVIDIA driver on your system. Please check that you have an NVIDIA GPU and installed a driver from http://www.nvidia.com/Download/index.aspx\n"
          ]
        }
      ]
    }
  ]
}